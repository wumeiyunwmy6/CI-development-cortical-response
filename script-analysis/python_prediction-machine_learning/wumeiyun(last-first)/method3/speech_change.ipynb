{
 "cells": [
  {
   "cell_type": "code",
   "execution_count": 1,
   "metadata": {},
   "outputs": [
    {
     "name": "stdout",
     "output_type": "stream",
     "text": [
      "<class 'pandas.core.frame.DataFrame'>\n",
      "RangeIndex: 47 entries, 0 to 46\n",
      "Data columns (total 21 columns):\n",
      " #   Column         Non-Null Count  Dtype  \n",
      "---  ------         --------------  -----  \n",
      " 0   score          47 non-null     int64  \n",
      " 1   s_ch1_change   47 non-null     float64\n",
      " 2   s_ch2_change   47 non-null     float64\n",
      " 3   s_ch3_change   47 non-null     float64\n",
      " 4   s_ch4_change   47 non-null     float64\n",
      " 5   s_ch5_change   47 non-null     float64\n",
      " 6   s_ch6_change   47 non-null     float64\n",
      " 7   s_ch7_change   47 non-null     float64\n",
      " 8   s_ch8_change   47 non-null     float64\n",
      " 9   s_ch9_change   47 non-null     float64\n",
      " 10  s_ch10_change  47 non-null     float64\n",
      " 11  s_ch11_change  47 non-null     float64\n",
      " 12  s_ch12_change  47 non-null     float64\n",
      " 13  s_ch13_change  47 non-null     float64\n",
      " 14  s_ch14_change  47 non-null     float64\n",
      " 15  s_ch15_change  47 non-null     float64\n",
      " 16  s_ch16_change  47 non-null     float64\n",
      " 17  s_ch17_change  47 non-null     float64\n",
      " 18  s_ch18_change  47 non-null     float64\n",
      " 19  s_ch19_change  47 non-null     float64\n",
      " 20  s_ch20_change  47 non-null     float64\n",
      "dtypes: float64(20), int64(1)\n",
      "memory usage: 7.8 KB\n",
      "None\n"
     ]
    }
   ],
   "source": [
    "import pandas as pd\n",
    "\n",
    "data_input = pd.read_csv(r\"E:\\wumeiyun(last-first)\\MachineLearningLast1_change2.csv\")\n",
    "# print(\"读入的非空数据:\\n\",data_input)\n",
    "\n",
    "# 非数值转数值\n",
    "X_gender = data_input.iloc[:, data_input.columns == \"gender\"]\n",
    "X_gender_encode = pd.get_dummies(X_gender, drop_first=True)\n",
    "X_CI = data_input.iloc[:, data_input.columns == \"CI\"]\n",
    "X_CI_encode = pd.get_dummies(X_CI, drop_first=True)\n",
    "\n",
    "X_new = pd.concat([\n",
    "\n",
    "    \n",
    "    \n",
    "    \n",
    "    \n",
    "    #speech\n",
    "     data_input.iloc[:, data_input.columns == \"s_ch1_change\"]\n",
    "    ,data_input.iloc[:, data_input.columns == \"s_ch2_change\"]\n",
    "    ,data_input.iloc[:, data_input.columns == \"s_ch3_change\"]\n",
    "    ,data_input.iloc[:, data_input.columns == \"s_ch4_change\"]\n",
    "    ,data_input.iloc[:, data_input.columns == \"s_ch5_change\"]\n",
    "    ,data_input.iloc[:, data_input.columns == \"s_ch6_change\"]\n",
    "    ,data_input.iloc[:, data_input.columns == \"s_ch7_change\"]\n",
    "    ,data_input.iloc[:, data_input.columns == \"s_ch8_change\"]\n",
    "    ,data_input.iloc[:, data_input.columns == \"s_ch9_change\"]\n",
    "    ,data_input.iloc[:, data_input.columns == \"s_ch10_change\"]\n",
    "    ,data_input.iloc[:, data_input.columns == \"s_ch11_change\"]\n",
    "    ,data_input.iloc[:, data_input.columns == \"s_ch12_change\"]\n",
    "    ,data_input.iloc[:, data_input.columns == \"s_ch13_change\"]\n",
    "    ,data_input.iloc[:, data_input.columns == \"s_ch14_change\"]\n",
    "    ,data_input.iloc[:, data_input.columns == \"s_ch15_change\"]\n",
    "    ,data_input.iloc[:, data_input.columns == \"s_ch16_change\"]\n",
    "    ,data_input.iloc[:, data_input.columns == \"s_ch17_change\"]\n",
    "    ,data_input.iloc[:, data_input.columns == \"s_ch18_change\"]\n",
    "    ,data_input.iloc[:, data_input.columns == \"s_ch19_change\"]\n",
    "    ,data_input.iloc[:, data_input.columns == \"s_ch20_change\"]\n",
    "    \n",
    "    \n",
    "], axis=1)\n",
    "Y_new = data_input.loc[:, \"score\"]\n",
    "\n",
    "data_value = pd.concat([Y_new, X_new], axis=1)\n",
    "print(data_value.info())"
   ]
  },
  {
   "cell_type": "code",
   "execution_count": 2,
   "metadata": {},
   "outputs": [],
   "source": [
    "# --------------------------------------------------------\n",
    "\n",
    "import numpy as np\n",
    "from sklearn.preprocessing import StandardScaler\n",
    "from sklearn.model_selection import train_test_split\n",
    "import warnings\n",
    "warnings.filterwarnings(\"ignore\")\n",
    "from sklearn.model_selection import cross_val_score\n",
    "from sklearn.feature_selection import RFE\n",
    "from sklearn.svm import SVC\n",
    "\n",
    "from sklearn import svm\n",
    "from sklearn.metrics import roc_curve, auc , accuracy_score ,recall_score,precision_score\n",
    "from sklearn.model_selection import StratifiedKFold, LeaveOneOut\n",
    "# --------------------------------------------------------\n",
    "\n",
    "\n",
    "X = data_value.iloc[:, data_value.columns != \"score\"]\n",
    "Y = data_value.iloc[:, data_value.columns == \"score\"]\n",
    "\n",
    "Y = np.array(Y)\n",
    "columns = X.columns\n",
    "\n",
    "X = StandardScaler().fit_transform(X)#标准化"
   ]
  },
  {
   "cell_type": "code",
   "execution_count": null,
   "metadata": {},
   "outputs": [],
   "source": []
  },
  {
   "cell_type": "code",
   "execution_count": 3,
   "metadata": {},
   "outputs": [
    {
     "name": "stdout",
     "output_type": "stream",
     "text": [
      "7\n"
     ]
    },
    {
     "data": {
      "image/png": "[encoded data removed]",
      "text/plain": [
       "<Figure size 1440x360 with 1 Axes>"
      ]
     },
     "metadata": {
      "needs_background": "light"
     },
     "output_type": "display_data"
    }
   ],
   "source": [
    "#53 7\n",
    "from sklearn.model_selection import train_test_split\n",
    "Xtrain,Xtest,Ytrain,Ytest=train_test_split(X,Y,test_size=0.1,shuffle=True,random_state=53\n",
    "                                           #max_random_state\n",
    "                                          )  \n",
    "\n",
    "import warnings\n",
    "warnings.filterwarnings(\"ignore\")\n",
    "\n",
    "#特征选择\n",
    "from sklearn.model_selection import cross_val_score\n",
    "from sklearn.feature_selection import RFE\n",
    "from sklearn.svm import SVC\n",
    "%matplotlib inline\n",
    "import matplotlib.pyplot as plt\n",
    "\n",
    "svc = SVC(kernel=\"linear\")\n",
    "score=[]\n",
    "compare_index=0\n",
    "compare_score=0\n",
    "for i in range(1,41,1):\n",
    "    X_wrapper=RFE(svc,n_features_to_select=i,step=1).fit_transform(Xtrain,Ytrain)\n",
    "    once=cross_val_score(svc,X_wrapper,Ytrain,scoring='accuracy',cv=10).mean()\n",
    "    score.append(once)\n",
    "    if once>compare_score:\n",
    "        compare_score=once\n",
    "        compare_index=i\n",
    "    \n",
    "print(compare_index)      \n",
    "plt.figure(figsize=[20,5])\n",
    "plt.plot(range(1,41,1),score)\n",
    "plt.xticks(range(1,41,1))\n",
    "plt.xlabel(\"The number of feature\")\n",
    "plt.ylabel(\"accuracy\")\n",
    "plt.show()\n"
   ]
  },
  {
   "cell_type": "code",
   "execution_count": 4,
   "metadata": {},
   "outputs": [
    {
     "name": "stdout",
     "output_type": "stream",
     "text": [
      "(5, 7)\n",
      "(47, 7)\n"
     ]
    },
    {
     "data": {
      "text/plain": [
       "0.8116666666666668"
      ]
     },
     "execution_count": 4,
     "metadata": {},
     "output_type": "execute_result"
    }
   ],
   "source": [
    "rfe=RFE(svc,n_features_to_select=compare_index,step=1)\n",
    "rfe_wrapper=rfe.fit(Xtrain,Ytrain)\n",
    "X_train_wrapper=rfe_wrapper.transform(Xtrain)\n",
    "X_test_wrapper=rfe_wrapper.transform(Xtest)\n",
    "print(X_test_wrapper.shape)\n",
    "X_wrapper=rfe_wrapper.transform(X)\n",
    "print(X_wrapper.shape)\n",
    "cross_val_score(svc,X_train_wrapper,Ytrain,scoring='accuracy',cv=10).mean()"
   ]
  },
  {
   "cell_type": "code",
   "execution_count": 5,
   "metadata": {},
   "outputs": [
    {
     "data": {
      "text/html": [
       "<div>\n",
       "<style scoped>\n",
       "    .dataframe tbody tr th:only-of-type {\n",
       "        vertical-align: middle;\n",
       "    }\n",
       "\n",
       "    .dataframe tbody tr th {\n",
       "        vertical-align: top;\n",
       "    }\n",
       "\n",
       "    .dataframe thead th {\n",
       "        text-align: right;\n",
       "    }\n",
       "</style>\n",
       "<table border=\"1\" class=\"dataframe\">\n",
       "  <thead>\n",
       "    <tr style=\"text-align: right;\">\n",
       "      <th></th>\n",
       "      <th>Rank</th>\n",
       "    </tr>\n",
       "  </thead>\n",
       "  <tbody>\n",
       "    <tr>\n",
       "      <th>s_ch1_change</th>\n",
       "      <td>True</td>\n",
       "    </tr>\n",
       "    <tr>\n",
       "      <th>s_ch2_change</th>\n",
       "      <td>False</td>\n",
       "    </tr>\n",
       "    <tr>\n",
       "      <th>s_ch3_change</th>\n",
       "      <td>True</td>\n",
       "    </tr>\n",
       "    <tr>\n",
       "      <th>s_ch4_change</th>\n",
       "      <td>False</td>\n",
       "    </tr>\n",
       "    <tr>\n",
       "      <th>s_ch5_change</th>\n",
       "      <td>True</td>\n",
       "    </tr>\n",
       "    <tr>\n",
       "      <th>s_ch6_change</th>\n",
       "      <td>False</td>\n",
       "    </tr>\n",
       "    <tr>\n",
       "      <th>s_ch7_change</th>\n",
       "      <td>True</td>\n",
       "    </tr>\n",
       "    <tr>\n",
       "      <th>s_ch8_change</th>\n",
       "      <td>True</td>\n",
       "    </tr>\n",
       "    <tr>\n",
       "      <th>s_ch9_change</th>\n",
       "      <td>False</td>\n",
       "    </tr>\n",
       "    <tr>\n",
       "      <th>s_ch10_change</th>\n",
       "      <td>False</td>\n",
       "    </tr>\n",
       "    <tr>\n",
       "      <th>s_ch11_change</th>\n",
       "      <td>False</td>\n",
       "    </tr>\n",
       "    <tr>\n",
       "      <th>s_ch12_change</th>\n",
       "      <td>False</td>\n",
       "    </tr>\n",
       "    <tr>\n",
       "      <th>s_ch13_change</th>\n",
       "      <td>False</td>\n",
       "    </tr>\n",
       "    <tr>\n",
       "      <th>s_ch14_change</th>\n",
       "      <td>False</td>\n",
       "    </tr>\n",
       "    <tr>\n",
       "      <th>s_ch15_change</th>\n",
       "      <td>False</td>\n",
       "    </tr>\n",
       "    <tr>\n",
       "      <th>s_ch16_change</th>\n",
       "      <td>True</td>\n",
       "    </tr>\n",
       "    <tr>\n",
       "      <th>s_ch17_change</th>\n",
       "      <td>True</td>\n",
       "    </tr>\n",
       "    <tr>\n",
       "      <th>s_ch18_change</th>\n",
       "      <td>False</td>\n",
       "    </tr>\n",
       "    <tr>\n",
       "      <th>s_ch19_change</th>\n",
       "      <td>False</td>\n",
       "    </tr>\n",
       "    <tr>\n",
       "      <th>s_ch20_change</th>\n",
       "      <td>False</td>\n",
       "    </tr>\n",
       "  </tbody>\n",
       "</table>\n",
       "</div>"
      ],
      "text/plain": [
       "                Rank\n",
       "s_ch1_change    True\n",
       "s_ch2_change   False\n",
       "s_ch3_change    True\n",
       "s_ch4_change   False\n",
       "s_ch5_change    True\n",
       "s_ch6_change   False\n",
       "s_ch7_change    True\n",
       "s_ch8_change    True\n",
       "s_ch9_change   False\n",
       "s_ch10_change  False\n",
       "s_ch11_change  False\n",
       "s_ch12_change  False\n",
       "s_ch13_change  False\n",
       "s_ch14_change  False\n",
       "s_ch15_change  False\n",
       "s_ch16_change   True\n",
       "s_ch17_change   True\n",
       "s_ch18_change  False\n",
       "s_ch19_change  False\n",
       "s_ch20_change  False"
      ]
     },
     "execution_count": 5,
     "metadata": {},
     "output_type": "execute_result"
    }
   ],
   "source": [
    "pd.set_option('max_row',300)\n",
    "pd.DataFrame(rfe.support_,index=columns,columns=['Rank'])#输出表格"
   ]
  },
  {
   "cell_type": "code",
   "execution_count": 6,
   "metadata": {},
   "outputs": [
    {
     "data": {
      "text/plain": [
       "array([ 1,  6,  1,  9,  1,  2,  1,  1,  7, 14, 11,  8,  4,  3, 12,  1,  1,\n",
       "       10, 13,  5])"
      ]
     },
     "execution_count": 6,
     "metadata": {},
     "output_type": "execute_result"
    }
   ],
   "source": [
    "rfe.ranking_"
   ]
  },
  {
   "cell_type": "code",
   "execution_count": 7,
   "metadata": {},
   "outputs": [
    {
     "name": "stdout",
     "output_type": "stream",
     "text": [
      "0.8\n"
     ]
    }
   ],
   "source": [
    "clf=SVC(kernel=\"linear\").fit(X_train_wrapper,Ytrain)#18个特征，训练集拟合你的分类器\n",
    "\n",
    "score=clf.score(X_test_wrapper,Ytest)#在测试集上测试\n",
    "print(score)"
   ]
  },
  {
   "cell_type": "code",
   "execution_count": 8,
   "metadata": {},
   "outputs": [
    {
     "name": "stdout",
     "output_type": "stream",
     "text": [
      "ok\n"
     ]
    }
   ],
   "source": [
    "import warnings\n",
    "warnings.filterwarnings(\"ignore\")\n",
    "\n",
    "area_list = []\n",
    "precision_list = []\n",
    "accuracy_list=[]\n",
    "recall_list=[]\n",
    "\n",
    "import numpy as np\n",
    "import matplotlib.pyplot as plt\n",
    "from scipy import interp  # 插值\n",
    "from sklearn import svm\n",
    "from sklearn.metrics import roc_curve, auc , accuracy_score ,recall_score,precision_score\n",
    "from sklearn.model_selection import StratifiedKFold, LeaveOneOut\n",
    "\n",
    "\n",
    "for num in range(10000):\n",
    "    #print(num)\n",
    "    cv = StratifiedKFold(n_splits=10,shuffle=True,random_state=num)\n",
    "    classifier = svm.SVC(kernel='linear', probability=True)\n",
    "    area = 0  # 面积AUC\n",
    "    precision = 0\n",
    "    accuracy=0#用混淆矩阵算出的准确率\n",
    "    recall=0#sensitivity,tpr\n",
    "    for train, test in cv.split(X_wrapper, Y):\n",
    "        cla = classifier.fit(X_wrapper[train], Y[train])\n",
    "\n",
    "        probas_ = cla.predict_proba(X_wrapper[test])\n",
    "        fpr, tpr, thresholds = roc_curve(Y[test], probas_[:, 1], pos_label=1)\n",
    "        roc_auc = auc(fpr, tpr)\n",
    "        area += roc_auc\n",
    "\n",
    "        prec = precision_score(Y[test], cla.predict(X_wrapper[test]))\n",
    "        precision += prec\n",
    "\n",
    "        acc=accuracy_score(Y[test],cla.predict(X_wrapper[test]))\n",
    "        accuracy+=acc\n",
    "\n",
    "        rec=recall_score(Y[test],cla.predict(X_wrapper[test]))\n",
    "        recall+=rec\n",
    "\n",
    "    area_list.append(area / 10)\n",
    "    precision_list.append(precision / 10)\n",
    "    accuracy_list.append(accuracy/10)\n",
    "    recall_list.append(recall / 10)\n",
    "\n",
    "    #print(\"---------------------------------------------------------\")\n",
    "\n",
    "\n",
    "from collections import Counter\n",
    "\n",
    "\n",
    "# 使用collections.Counter()函数\n",
    "# 直接collections.Counter(list)就可以得到list中每个元素的个数\n",
    "# 返回类型是collections.Counter，可以将其手动转换为dict\n",
    "def get_count_by_counter(l):\n",
    "    count = Counter(l)  # 类型： <class 'collections.Counter'>\n",
    "    count_dict = dict(count)  # 类型： <type 'dict'>\n",
    "    return count_dict\n",
    "\n",
    "average_AUC = np.mean(area_list)\n",
    "average_PRECISION=np.mean(precision_list)\n",
    "average_ACCURACY=np.mean(accuracy_list)\n",
    "average_RECALL=np.mean(recall_list)\n",
    "\n",
    "print(\"ok\")\n",
    "# print(\"AUC\",sorted(get_count_by_counter(area_list).items(), key=lambda item:item[1], reverse=True))\n",
    "# print(\"PRECISION\",sorted(get_count_by_counter(precision_list).items(), key=lambda item:item[1], reverse=True))\n",
    "# print(\"ACCURACY\",sorted(get_count_by_counter(accuracy_list).items(), key=lambda item:item[1], reverse=True))\n",
    "# print(\"RECALL(SENSITIVITY)\",sorted(get_count_by_counter(recall_list).items(), key=lambda item:item[1], reverse=True))"
   ]
  },
  {
   "cell_type": "code",
   "execution_count": 9,
   "metadata": {},
   "outputs": [
    {
     "name": "stdout",
     "output_type": "stream",
     "text": [
      "AUC: 0.7942541666666666\n",
      "PRECISION 0.7937100000000001\n",
      "ACCURACY 0.7336901666666666\n",
      "RECALL 0.4781216666666667\n"
     ]
    }
   ],
   "source": [
    "print(\"AUC:\",average_AUC)\n",
    "print(\"PRECISION\",average_PRECISION)\n",
    "print(\"ACCURACY\",average_ACCURACY)\n",
    "print(\"RECALL\",average_RECALL)"
   ]
  },
  {
   "cell_type": "code",
   "execution_count": 10,
   "metadata": {},
   "outputs": [
    {
     "data": {
      "text/plain": [
       "0.02597145127025699"
      ]
     },
     "execution_count": 10,
     "metadata": {},
     "output_type": "execute_result"
    }
   ],
   "source": [
    "np.std(accuracy_list)"
   ]
  },
  {
   "cell_type": "code",
   "execution_count": 11,
   "metadata": {},
   "outputs": [],
   "source": [
    "pd.DataFrame(accuracy_list).to_csv(\"E:\\\\wumeiyun(last-first)\\\\method3\\\\speech_change.csv\")"
   ]
  }
 ],
 "metadata": {
  "kernelspec": {
   "display_name": "Python 3",
   "language": "python",
   "name": "python3"
  },
  "language_info": {
   "codemirror_mode": {
    "name": "ipython",
    "version": 3
   },
   "file_extension": ".py",
   "mimetype": "text/x-python",
   "name": "python",
   "nbconvert_exporter": "python",
   "pygments_lexer": "ipython3",
   "version": "3.7.4"
  }
 },
 "nbformat": 4,
 "nbformat_minor": 5
}
